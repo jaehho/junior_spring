{
 "cells": [
  {
   "cell_type": "code",
   "execution_count": 6,
   "metadata": {},
   "outputs": [],
   "source": [
    "import pandas as pd\n",
    "import numpy as np\n",
    "import matplotlib.pyplot as plt"
   ]
  },
  {
   "cell_type": "code",
   "execution_count": 7,
   "metadata": {},
   "outputs": [
    {
     "name": "stdout",
     "output_type": "stream",
     "text": [
      "Cpp_1: 0.0002122065907891938\n",
      "Lpp_2: 0.00023873241463784304\n",
      "Cpp_3: 0.0006366197723675814\n"
     ]
    }
   ],
   "source": [
    "L_1 = 3/2\n",
    "C_2 = 4/3\n",
    "L_3 = 1/2\n",
    "\n",
    "Cp_1 = 1/L_1\n",
    "Lp_2 = 1/C_2\n",
    "Cp_3 = 1/L_3\n",
    "\n",
    "R = 1\n",
    "f_c = 500\n",
    "w_c = 2 * np.pi * f_c\n",
    "\n",
    "Cpp_1 = (R * Cp_1) / (w_c)\n",
    "Lpp_2 = (R * Lp_2) / (w_c)\n",
    "Cpp_3 = (R * Cp_3) / (w_c)\n",
    "\n",
    "print(\"Cpp_1:\", Cpp_1)\n",
    "print(\"Lpp_2:\", Lpp_2)\n",
    "print(\"Cpp_3:\", Cpp_3)"
   ]
  }
 ],
 "metadata": {
  "kernelspec": {
   "display_name": ".venv",
   "language": "python",
   "name": "python3"
  },
  "language_info": {
   "codemirror_mode": {
    "name": "ipython",
    "version": 3
   },
   "file_extension": ".py",
   "mimetype": "text/x-python",
   "name": "python",
   "nbconvert_exporter": "python",
   "pygments_lexer": "ipython3",
   "version": "3.12.3"
  }
 },
 "nbformat": 4,
 "nbformat_minor": 2
}
